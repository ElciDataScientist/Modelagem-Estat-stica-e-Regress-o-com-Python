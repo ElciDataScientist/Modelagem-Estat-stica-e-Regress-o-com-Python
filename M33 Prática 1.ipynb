{
  "nbformat": 4,
  "nbformat_minor": 0,
  "metadata": {
    "colab": {
      "provenance": []
    },
    "kernelspec": {
      "name": "python3",
      "display_name": "Python 3"
    },
    "language_info": {
      "name": "python"
    }
  },
  "cells": [
    {
      "cell_type": "code",
      "source": [
        "import pandas as pd\n",
        "import numpy as np\n",
        "import matplotlib.pyplot as plt\n",
        "import seaborn as sns\n",
        "import scipy.stats as st\n",
        "import scipy.stats as stats"
      ],
      "metadata": {
        "id": "ZO8DNu8B_yHX"
      },
      "execution_count": 1,
      "outputs": []
    },
    {
      "cell_type": "code",
      "source": [
        "# Carregar os dados usando o load_dataset do Seaborn\n",
        "penguins = sns.load_dataset('penguins')"
      ],
      "metadata": {
        "id": "qiTkDSa_ACXR"
      },
      "execution_count": 2,
      "outputs": []
    },
    {
      "cell_type": "code",
      "source": [
        "pg = pd.DataFrame(penguins)\n",
        "desvpad     = pg.groupby('sex')['body_mass_g'].var().mean()**.5\n",
        "Média_Male  = pg.groupby('sex')['body_mass_g'].mean()['Male']\n",
        "Média_Female = pg.groupby('sex')['body_mass_g'].mean()['Female']"
      ],
      "metadata": {
        "id": "kVOCmWLN_2Uv"
      },
      "execution_count": 3,
      "outputs": []
    },
    {
      "cell_type": "code",
      "source": [
        "diferença  = Média_Male - Média_Female # Numerador da fórmula\n",
        "erro_padrao = desvpad*((2/10)**.5)     # variância amostral*raiz(2/n)\n",
        "t          = diferença/erro_padrao    # Estatística do teste\n",
        "RC         = st.t.ppf(.95, 18)        # Região crítica: sob h0, t está na RC 5% das vezes\n",
        "p_value    = 1-st.t.cdf(t, 18)        # p-value: a menor significância para a qual rejeitamos o teste"
      ],
      "metadata": {
        "id": "U3RqjZ02AGGW"
      },
      "execution_count": 4,
      "outputs": []
    },
    {
      "cell_type": "code",
      "source": [
        "print(f'diferença          : {diferença:.2f}')\n",
        "print(f'desvio padrão      : {desvpad:.2f}')\n",
        "print(f'erro padrão        : {erro_padrao:.2f}')\n",
        "print(f'estatística do teste: {t:.2f}')\n",
        "print(f'região crítica     : {RC:.2f} ou mais')\n",
        "print(f'p-value            : {p_value:.5f} ou mais')"
      ],
      "metadata": {
        "colab": {
          "base_uri": "https://localhost:8080/"
        },
        "id": "zQsVKAtNAP5k",
        "outputId": "ecb136b3-9844-4c35-fb61-599692a4eda9"
      },
      "execution_count": 5,
      "outputs": [
        {
          "output_type": "stream",
          "name": "stdout",
          "text": [
            "diferença          : 683.41\n",
            "desvio padrão      : 729.43\n",
            "erro padrão        : 326.21\n",
            "estatística do teste: 2.09\n",
            "região crítica     : 1.73 ou mais\n",
            "p-value            : 0.02529 ou mais\n"
          ]
        }
      ]
    },
    {
      "cell_type": "code",
      "source": [
        "if p_value < .05:\n",
        "   print(f'\\033[7m\\033[92m\\np-value é menor que 5%, concluí-se que há uma diferença significativa entre os pesos de machos e fêmeas.')\n",
        "else:\n",
        "   print(f\"\\033[7m\\033[91m\\np-value é maior que 5%, não há relevância nas análises de pesos entre machos e fêmeas.\")"
      ],
      "metadata": {
        "colab": {
          "base_uri": "https://localhost:8080/"
        },
        "id": "MqhHBVprAT6_",
        "outputId": "3006d320-86ec-4c0f-f054-39fbbc6ca0c1"
      },
      "execution_count": 6,
      "outputs": [
        {
          "output_type": "stream",
          "name": "stdout",
          "text": [
            "\u001b[7m\u001b[92m\n",
            "p-value é menor que 5%, concluí-se que há uma diferença significativa entre os pesos de machos e fêmeas.\n"
          ]
        }
      ]
    }
  ]
}